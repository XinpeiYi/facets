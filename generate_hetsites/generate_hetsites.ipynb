{
 "cells": [
  {
   "cell_type": "code",
   "execution_count": 1,
   "metadata": {},
   "outputs": [],
   "source": [
    "import pandas as pd\n",
    "\n",
    "exac = pd.read_csv('/Users/brendan/Github/moalmanac/moalmanac/datasources/exac/exac.expanded.min.r1.txt',\n",
    "                  sep='\\t', low_memory=False)"
   ]
  },
  {
   "cell_type": "code",
   "execution_count": 2,
   "metadata": {},
   "outputs": [],
   "source": [
    "idx_snps = (exac['REF'].str.len() == 1) & (exac['ALT'].str.len() == 1)\n",
    "exac_snps = exac[idx_snps]"
   ]
  },
  {
   "cell_type": "code",
   "execution_count": 3,
   "metadata": {},
   "outputs": [],
   "source": [
    "noty_af_thresh = 0.01   # 10^-2\n",
    "y_af_thresh = 0.00001   # 10^-5\n",
    "\n",
    "idx_noty = (exac_snps['CHROM'] != 'Y') & (exac_snps['AF'] > noty_af_thresh)\n",
    "idx_y = (exac_snps['CHROM'] == 'Y') & (exac_snps['AF'] > y_af_thresh)\n",
    "idx_keep = idx_noty[idx_noty].index.union(idx_y[idx_y].index)\n",
    "\n",
    "exac_hets = exac_snps.loc[idx_keep, :]"
   ]
  },
  {
   "cell_type": "code",
   "execution_count": 4,
   "metadata": {},
   "outputs": [],
   "source": [
    "exac_hets['start'] = exac_hets['POS'] - 1\n",
    "exac_hets['end'] = exac_hets['POS']"
   ]
  },
  {
   "cell_type": "code",
   "execution_count": 5,
   "metadata": {},
   "outputs": [],
   "source": [
    "exac_hets_export = exac_hets.loc[:, ['CHROM', 'start', 'end']]\n",
    "exac_hets_export.to_csv('exac_hets.bed', sep='\\t', index=False, header=False)"
   ]
  },
  {
   "cell_type": "code",
   "execution_count": 6,
   "metadata": {},
   "outputs": [
    {
     "data": {
      "text/plain": [
       "<matplotlib.axes._subplots.AxesSubplot at 0x131fec8d0>"
      ]
     },
     "execution_count": 6,
     "metadata": {},
     "output_type": "execute_result"
    },
    {
     "data": {
      "image/png": "[encoded data removed]",
      "text/plain": [
       "<Figure size 432x288 with 1 Axes>"
      ]
     },
     "metadata": {},
     "output_type": "display_data"
    }
   ],
   "source": [
    "import numpy as np\n",
    "%matplotlib inline\n",
    "exac_hets.loc[idx_y, 'AF'].apply(np.log10).hist()"
   ]
  },
  {
   "cell_type": "code",
   "execution_count": null,
   "metadata": {},
   "outputs": [],
   "source": []
  },
  {
   "cell_type": "code",
   "execution_count": null,
   "metadata": {},
   "outputs": [],
   "source": []
  },
  {
   "cell_type": "code",
   "execution_count": null,
   "metadata": {},
   "outputs": [],
   "source": []
  },
  {
   "cell_type": "code",
   "execution_count": null,
   "metadata": {},
   "outputs": [],
   "source": []
  },
  {
   "cell_type": "code",
   "execution_count": null,
   "metadata": {},
   "outputs": [],
   "source": []
  }
 ],
 "metadata": {
  "kernelspec": {
   "display_name": "Python 3",
   "language": "python",
   "name": "python3"
  },
  "language_info": {
   "codemirror_mode": {
    "name": "ipython",
    "version": 3
   },
   "file_extension": ".py",
   "mimetype": "text/x-python",
   "name": "python",
   "nbconvert_exporter": "python",
   "pygments_lexer": "ipython3",
   "version": "3.6.5"
  }
 },
 "nbformat": 4,
 "nbformat_minor": 2
}
